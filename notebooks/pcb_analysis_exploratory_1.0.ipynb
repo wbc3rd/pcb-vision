{
 "cells": [
  {
   "cell_type": "code",
   "execution_count": null,
   "id": "c0cdb1ac",
   "metadata": {},
   "outputs": [],
   "source": [
    "import fiftyone as fo\n",
    "\n",
    "name = \"pcb-d\"\n",
    "\n",
    "dataset_dir = \"./datasets/path_to_data\"\n",
    "\n",
    "dataset_type = fo.types.COCODetectionDataset\n",
    "\n",
    "dataset = fo.Dataset.from_dir(\n",
    "    dataset_dir=dataset_dir,\n",
    "    dataset_type=dataset_type,\n",
    "    name=name,\n",
    ")"
   ]
  },
  {
   "cell_type": "code",
   "execution_count": null,
   "id": "a668aef8",
   "metadata": {},
   "outputs": [],
   "source": [
    "data_path = \"./datasets/path_to_data\"\n",
    "\n",
    "labels_path = \"./datasets/path_to_data\"\n",
    "\n",
    "dataset = fo.Dataset.from_dir(\n",
    "    dataset_type=fo.types.COCODetectionDataset,\n",
    "    data_path=data_path,\n",
    "    labels_path=labels_path,\n",
    ")"
   ]
  },
  {
   "cell_type": "code",
   "execution_count": null,
   "id": "9a8a376a",
   "metadata": {},
   "outputs": [],
   "source": [
    "session = fo.launch_app(dataset)"
   ]
  },
  {
   "cell_type": "code",
   "execution_count": null,
   "id": "ac64afa9",
   "metadata": {},
   "outputs": [],
   "source": [
    "print(dataset)"
   ]
  },
  {
   "cell_type": "code",
   "execution_count": null,
   "id": "d5cd66c2",
   "metadata": {},
   "outputs": [],
   "source": [
    "fo.pprint(dataset.stats(include_media=False))"
   ]
  },
  {
   "cell_type": "code",
   "execution_count": null,
   "id": "b0125359",
   "metadata": {},
   "outputs": [],
   "source": [
    "view = dataset.view()\n",
    "\n",
    "print(view)"
   ]
  },
  {
   "cell_type": "code",
   "execution_count": null,
   "id": "07de10d9",
   "metadata": {},
   "outputs": [],
   "source": [
    "print(dataset.list_aggregations())"
   ]
  },
  {
   "cell_type": "code",
   "execution_count": null,
   "id": "422187b7",
   "metadata": {},
   "outputs": [],
   "source": [
    "import fiftyone.zoo as foz"
   ]
  },
  {
   "cell_type": "code",
   "execution_count": null,
   "id": "785ef21a",
   "metadata": {},
   "outputs": [],
   "source": [
    "model_names = foz.list_zoo_models()\n",
    "print(model_names)"
   ]
  },
  {
   "cell_type": "code",
   "execution_count": null,
   "id": "2cbd5610",
   "metadata": {},
   "outputs": [],
   "source": [
    "model = foz.load_zoo_model(\"faster-rcnn-resnet50-fpn-coco-torch\")"
   ]
  },
  {
   "cell_type": "code",
   "execution_count": null,
   "id": "aa762594",
   "metadata": {},
   "outputs": [],
   "source": [
    "samples = dataset.take(25)"
   ]
  },
  {
   "cell_type": "code",
   "execution_count": null,
   "id": "17ffd339",
   "metadata": {},
   "outputs": [],
   "source": [
    "print(samples)"
   ]
  },
  {
   "cell_type": "code",
   "execution_count": null,
   "id": "0422a88b",
   "metadata": {},
   "outputs": [],
   "source": [
    "print(sample.detections)"
   ]
  },
  {
   "cell_type": "code",
   "execution_count": null,
   "id": "be2d0f78",
   "metadata": {},
   "outputs": [],
   "source": [
    "import torch\n",
    "import torchvision\n",
    "\n",
    "device = torch.device(\"cuda:0\" if torch.cuda.is_available() else \"cpu\")\n",
    "\n",
    "model = torchvision.models.detection.fasterrcnn_resnet50_fpn(pretrained=True)\n",
    "model.to(device)\n",
    "model.eval()\n",
    "\n",
    "print(\"Model ready\")"
   ]
  },
  {
   "cell_type": "code",
   "execution_count": null,
   "id": "8810b0ff",
   "metadata": {},
   "outputs": [],
   "source": [
    "classes"
   ]
  },
  {
   "cell_type": "code",
   "execution_count": null,
   "id": "0d7e6739",
   "metadata": {},
   "outputs": [],
   "source": [
    "import fiftyone.brain as fob"
   ]
  },
  {
   "cell_type": "code",
   "execution_count": null,
   "id": "341bfcfc",
   "metadata": {},
   "outputs": [],
   "source": [
    "fob.compute_uniqueness(dataset)\n",
    "\n",
    "print(dataset)"
   ]
  },
  {
   "cell_type": "code",
   "execution_count": null,
   "id": "2e23adbf",
   "metadata": {},
   "outputs": [],
   "source": [
    "print(dataset.first())"
   ]
  },
  {
   "cell_type": "code",
   "execution_count": null,
   "id": "9b5347c8",
   "metadata": {},
   "outputs": [],
   "source": [
    "print(dataset.last())"
   ]
  },
  {
   "cell_type": "code",
   "execution_count": null,
   "id": "f30229c1",
   "metadata": {},
   "outputs": [],
   "source": [
    "least_unique_view = dataset.sort_by(\"uniqueness\", reverse=False)\n",
    "\n",
    "session.view = least_unique_view"
   ]
  },
  {
   "cell_type": "code",
   "execution_count": null,
   "id": "c85f4986",
   "metadata": {},
   "outputs": [],
   "source": []
  }
 ],
 "metadata": {
  "kernelspec": {
   "display_name": "Python 3 (ipykernel)",
   "language": "python",
   "name": "python3"
  },
  "language_info": {
   "codemirror_mode": {
    "name": "ipython",
    "version": 3
   },
   "file_extension": ".py",
   "mimetype": "text/x-python",
   "name": "python",
   "nbconvert_exporter": "python",
   "pygments_lexer": "ipython3",
   "version": "3.9.6"
  }
 },
 "nbformat": 4,
 "nbformat_minor": 5
}
